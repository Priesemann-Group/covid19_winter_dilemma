{
 "cells": [
  {
   "cell_type": "code",
   "execution_count": 1,
   "id": "17e2f28c",
   "metadata": {},
   "outputs": [],
   "source": [
    "import numpy as np\n",
    "from matplotlib import pyplot as plt\n",
    "import matplotlib as mpl\n",
    "import time"
   ]
  },
  {
   "cell_type": "code",
   "execution_count": 2,
   "id": "c91893b7",
   "metadata": {},
   "outputs": [],
   "source": [
    "import sys\n",
    "sys.path.append(\"../code\")\n",
    "import model_agegroups\n",
    "import plotting\n",
    "import plotting_agegroups\n",
    "import parameters_agegroups"
   ]
  },
  {
   "cell_type": "code",
   "execution_count": 3,
   "id": "9cf5bd74",
   "metadata": {},
   "outputs": [
    {
     "name": "stdout",
     "output_type": "stream",
     "text": [
      "Sapprox: 127440.34148892079\n",
      "Sapprox: 68841.86277156581\n",
      "Sapprox: 43980.19749023847\n",
      "Sapprox: 29028.505006566418\n",
      "Sapprox: 5084.642472765903\n",
      "Sapprox: 287.38112439216275\n",
      "Sapprox: 127440.34148892079\n",
      "Sapprox: 68841.86277156581\n",
      "Sapprox: 43980.19749023847\n",
      "Sapprox: 29028.505006566418\n",
      "Sapprox: 5084.642472765903\n",
      "Sapprox: 287.38112439216275\n",
      "Sapprox: 127440.34148892079\n",
      "Sapprox: 68841.86277156581\n",
      "Sapprox: 43980.19749023847\n",
      "Sapprox: 29028.505006566418\n",
      "Sapprox: 5084.642472765903\n",
      "Sapprox: 287.38112439216275\n",
      "Sapprox: 127440.34148892079\n",
      "Sapprox: 68841.86277156581\n",
      "Sapprox: 43980.19749023847\n",
      "Sapprox: 29028.505006566418\n",
      "Sapprox: 5084.642472765903\n",
      "Sapprox: 287.38112439216275\n"
     ]
    }
   ],
   "source": [
    "params_m1 = parameters_agegroups.get_params(country='Germany', modeltype='ramp', scenario='scenario3')\n",
    "params_m2 = parameters_agegroups.get_params(country='Germany', modeltype='ramp', scenario='scenario2')\n",
    "params_m3 = parameters_agegroups.get_params(country='Germany', modeltype='ramp', scenario='scenario1')\n",
    "params_mFW = parameters_agegroups.get_params(country='Germany', modeltype='ramp', scenario='scenario1')\n",
    "params_mFW.update( {'alpha_w': 0.0, 'alpha_u': 0.0, 'alpha_R': 0.0,} )"
   ]
  },
  {
   "cell_type": "code",
   "execution_count": null,
   "id": "4334e93e",
   "metadata": {},
   "outputs": [],
   "source": [
    "m1 = model_agegroups.Model(**params_m1)\n",
    "m2 = model_agegroups.Model(**params_m2)\n",
    "m3 = model_agegroups.Model(**params_m3)\n",
    "mFW = model_agegroups.Model(**params_mFW)\n",
    "\n",
    "start_time = time.time()\n",
    "times, data = m1.run()\n",
    "times, data = m2.run()\n",
    "times, data = m3.run()\n",
    "times, data = mFW.run()\n",
    "print(time.time() - start_time)"
   ]
  },
  {
   "cell_type": "code",
   "execution_count": null,
   "id": "e1e83f5e",
   "metadata": {},
   "outputs": [],
   "source": [
    "[(m.chopped_data() < 0 ).any() for m in [m1,m2,m3,mFW]]"
   ]
  },
  {
   "cell_type": "code",
   "execution_count": null,
   "id": "b8d5ce81",
   "metadata": {},
   "outputs": [],
   "source": [
    "import importlib\n",
    "importlib.reload(plotting_agegroups)\n",
    "plotting_agegroups.sixpanels([m1,m2,m3], arial=True, full_wave=mFW)"
   ]
  },
  {
   "cell_type": "code",
   "execution_count": null,
   "id": "aa26c9ef",
   "metadata": {},
   "outputs": [],
   "source": [
    "importlib.reload(plotting_agegroups)\n",
    "plotting_agegroups.overview(m1, arial=True)"
   ]
  },
  {
   "cell_type": "code",
   "execution_count": null,
   "id": "f8292c75",
   "metadata": {},
   "outputs": [],
   "source": [
    "importlib.reload(plotting_agegroups)\n",
    "plotting_agegroups.overview_agegroups(m1, path='./figures/show.pdf')"
   ]
  },
  {
   "cell_type": "code",
   "execution_count": null,
   "id": "afcf91cc",
   "metadata": {},
   "outputs": [],
   "source": []
  },
  {
   "cell_type": "code",
   "execution_count": null,
   "id": "37a545aa",
   "metadata": {},
   "outputs": [],
   "source": []
  }
 ],
 "metadata": {
  "kernelspec": {
   "display_name": "Python 3",
   "language": "python",
   "name": "python3"
  },
  "language_info": {
   "codemirror_mode": {
    "name": "ipython",
    "version": 3
   },
   "file_extension": ".py",
   "mimetype": "text/x-python",
   "name": "python",
   "nbconvert_exporter": "python",
   "pygments_lexer": "ipython3",
   "version": "3.8.10"
  }
 },
 "nbformat": 4,
 "nbformat_minor": 5
}
