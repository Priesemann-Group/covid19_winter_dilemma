{
 "cells": [
  {
   "cell_type": "code",
   "execution_count": 1,
   "id": "caf82abd",
   "metadata": {},
   "outputs": [],
   "source": [
    "from scipy.integrate import solve_ivp\n",
    "from scipy.stats import gamma as gamma_dist\n",
    "import numpy as np\n",
    "from matplotlib import pyplot as plt\n",
    "import matplotlib as mpl"
   ]
  },
  {
   "cell_type": "code",
   "execution_count": 2,
   "id": "a6269bd1",
   "metadata": {},
   "outputs": [],
   "source": [
    "import sys\n",
    "sys.path.append(\"../code\")\n",
    "import model_ramp as model\n",
    "import plotting\n",
    "import parametros\n",
    "import parametros_CZE\n",
    "import parametros_DSK\n",
    "import parametros_POR"
   ]
  },
  {
   "cell_type": "code",
   "execution_count": 3,
   "id": "2cada645",
   "metadata": {},
   "outputs": [],
   "source": [
    "default_params = parametros.params.copy()\n",
    "default_params.update( {'epsilon_u':0.1, 'epsilon_w':0.1} )"
   ]
  },
  {
   "cell_type": "markdown",
   "id": "4d378b9a",
   "metadata": {},
   "source": [
    "## Germany"
   ]
  },
  {
   "cell_type": "code",
   "execution_count": 4,
   "id": "9970a32d",
   "metadata": {},
   "outputs": [],
   "source": [
    "params_m1 = default_params.copy()\n",
    "params_m2 = default_params.copy()\n",
    "params_m3 = default_params.copy()\n",
    "\n",
    "params_m1[\"Rt_base\"] = parametros.Rtbase['scenario3']\n",
    "params_m2[\"Rt_base\"] = parametros.Rtbase['scenario2']\n",
    "params_m3[\"Rt_base\"] = parametros.Rtbase['scenario1']"
   ]
  },
  {
   "cell_type": "code",
   "execution_count": 5,
   "id": "f2bdbe68",
   "metadata": {},
   "outputs": [],
   "source": [
    "m1 = model.Model(**params_m1)\n",
    "m2 = model.Model(**params_m2)\n",
    "m3 = model.Model(**params_m3)\n",
    "\n",
    "times, data = m1.run()\n",
    "times, data = m2.run()\n",
    "times, data = m3.run()"
   ]
  },
  {
   "cell_type": "code",
   "execution_count": 6,
   "id": "8e57d164",
   "metadata": {},
   "outputs": [],
   "source": [
    "m1.save(\"./pickle/germany_m1.pickle\")\n",
    "m2.save(\"./pickle/germany_m2.pickle\")\n",
    "m3.save(\"./pickle/germany_m3.pickle\")"
   ]
  },
  {
   "cell_type": "markdown",
   "id": "54d12bfb",
   "metadata": {},
   "source": [
    "## Czech"
   ]
  },
  {
   "cell_type": "code",
   "execution_count": 7,
   "id": "4bbc982f",
   "metadata": {},
   "outputs": [],
   "source": [
    "params_m1 = default_params.copy()\n",
    "\n",
    "y0 = parametros.y0.copy()\n",
    "y0.update(parametros_CZE.y0)\n",
    "\n",
    "params_m1.update(parametros_CZE.params)\n",
    "params_m1.update({'y0':list(y0.values())})\n",
    "\n",
    "params_m2 = params_m1.copy()\n",
    "params_m3 = params_m1.copy()\n",
    "\n",
    "params_m1[\"Rt_base\"] = parametros.Rtbase['scenario3']\n",
    "params_m2[\"Rt_base\"] = parametros.Rtbase['scenario2']\n",
    "params_m3[\"Rt_base\"] = parametros.Rtbase['scenario1']"
   ]
  },
  {
   "cell_type": "code",
   "execution_count": 8,
   "id": "8518970a",
   "metadata": {},
   "outputs": [],
   "source": [
    "m1 = model.Model(**params_m1)\n",
    "m2 = model.Model(**params_m2)\n",
    "m3 = model.Model(**params_m3)\n",
    "\n",
    "times, data = m1.run()\n",
    "times, data = m2.run()\n",
    "times, data = m3.run()"
   ]
  },
  {
   "cell_type": "code",
   "execution_count": 9,
   "id": "3e93b3a0",
   "metadata": {},
   "outputs": [],
   "source": [
    "m1.save(\"./pickle/czech_m1.pickle\")\n",
    "m2.save(\"./pickle/czech_m2.pickle\")\n",
    "m3.save(\"./pickle/czech_m3.pickle\")"
   ]
  },
  {
   "cell_type": "markdown",
   "id": "d1457f8b",
   "metadata": {},
   "source": [
    "## Denmark"
   ]
  },
  {
   "cell_type": "code",
   "execution_count": 10,
   "id": "90e90d4e",
   "metadata": {},
   "outputs": [],
   "source": [
    "params_m1 = default_params.copy()\n",
    "\n",
    "y0 = parametros.y0.copy()\n",
    "y0.update(parametros_DSK.y0)\n",
    "\n",
    "params_m1.update(parametros_DSK.params)\n",
    "params_m1.update({'y0':list(y0.values())})\n",
    "\n",
    "params_m2 = params_m1.copy()\n",
    "params_m3 = params_m1.copy()\n",
    "\n",
    "params_m1[\"Rt_base\"] = parametros.Rtbase['scenario3']\n",
    "params_m2[\"Rt_base\"] = parametros.Rtbase['scenario2']\n",
    "params_m3[\"Rt_base\"] = parametros.Rtbase['scenario1']"
   ]
  },
  {
   "cell_type": "code",
   "execution_count": 11,
   "id": "e60081f2",
   "metadata": {},
   "outputs": [],
   "source": [
    "m1 = model.Model(**params_m1)\n",
    "m2 = model.Model(**params_m2)\n",
    "m3 = model.Model(**params_m3)\n",
    "\n",
    "times, data = m1.run()\n",
    "times, data = m2.run()\n",
    "times, data = m3.run()"
   ]
  },
  {
   "cell_type": "code",
   "execution_count": 12,
   "id": "0918782f",
   "metadata": {},
   "outputs": [],
   "source": [
    "m1.save(\"./pickle/denmark_m1.pickle\")\n",
    "m2.save(\"./pickle/denmark_m2.pickle\")\n",
    "m3.save(\"./pickle/denmark_m3.pickle\")"
   ]
  },
  {
   "cell_type": "markdown",
   "id": "43bbb9b4",
   "metadata": {},
   "source": [
    "## Portugal"
   ]
  },
  {
   "cell_type": "code",
   "execution_count": 13,
   "id": "907c0cb3",
   "metadata": {},
   "outputs": [],
   "source": [
    "params_m1 = default_params.copy()\n",
    "\n",
    "y0 = parametros.y0.copy()\n",
    "y0.update(parametros_POR.y0)\n",
    "\n",
    "params_m1.update(parametros_POR.params)\n",
    "params_m1.update({'y0':list(y0.values())})\n",
    "\n",
    "params_m2 = params_m1.copy()\n",
    "params_m3 = params_m1.copy()\n",
    "\n",
    "params_m1[\"Rt_base\"] = parametros.Rtbase['scenario3']\n",
    "params_m2[\"Rt_base\"] = parametros.Rtbase['scenario2']\n",
    "params_m3[\"Rt_base\"] = parametros.Rtbase['scenario1']"
   ]
  },
  {
   "cell_type": "code",
   "execution_count": 14,
   "id": "81437c72",
   "metadata": {},
   "outputs": [],
   "source": [
    "m1 = model.Model(**params_m1)\n",
    "m2 = model.Model(**params_m2)\n",
    "m3 = model.Model(**params_m3)\n",
    "\n",
    "times, data = m1.run()\n",
    "times, data = m2.run()\n",
    "times, data = m3.run()"
   ]
  },
  {
   "cell_type": "code",
   "execution_count": 15,
   "id": "517f34c5",
   "metadata": {},
   "outputs": [],
   "source": [
    "m1.save(\"./pickle/portugal_m1.pickle\")\n",
    "m2.save(\"./pickle/portugal_m2.pickle\")\n",
    "m3.save(\"./pickle/portugal_m3.pickle\")"
   ]
  }
 ],
 "metadata": {
  "kernelspec": {
   "display_name": "Python 3",
   "language": "python",
   "name": "python3"
  },
  "language_info": {
   "codemirror_mode": {
    "name": "ipython",
    "version": 3
   },
   "file_extension": ".py",
   "mimetype": "text/x-python",
   "name": "python",
   "nbconvert_exporter": "python",
   "pygments_lexer": "ipython3",
   "version": "3.8.10"
  }
 },
 "nbformat": 4,
 "nbformat_minor": 5
}
