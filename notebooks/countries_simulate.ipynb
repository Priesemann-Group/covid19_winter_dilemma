{
 "cells": [
  {
   "cell_type": "code",
   "execution_count": 2,
   "metadata": {},
   "outputs": [],
   "source": [
    "from scipy.integrate import solve_ivp\n",
    "from scipy.stats import gamma as gamma_dist\n",
    "import numpy as np\n",
    "from matplotlib import pyplot as plt\n",
    "import matplotlib as mpl"
   ]
  },
  {
   "cell_type": "code",
   "execution_count": 3,
   "metadata": {},
   "outputs": [],
   "source": [
    "import sys\n",
    "sys.path.append(\"../code\")\n",
    "import model_ramp as model\n",
    "import plotting\n",
    "import parametros\n",
    "import parametros_CZE\n",
    "import parametros_DSK\n",
    "import parametros_POR"
   ]
  },
  {
   "cell_type": "code",
   "execution_count": 4,
   "metadata": {},
   "outputs": [],
   "source": [
    "default_params = parametros.params.copy()\n",
    "default_params.update( {'epsilon_u':0.1, 'epsilon_w':0.1} )"
   ]
  },
  {
   "cell_type": "markdown",
   "metadata": {},
   "source": [
    "## Germany"
   ]
  },
  {
   "cell_type": "code",
   "execution_count": 5,
   "metadata": {},
   "outputs": [],
   "source": [
    "GERparams_m1 = default_params.copy()\n",
    "\n",
    "GERparams_m1.update({'y0': parametros.y0_array})\n",
    "\n",
    "GERparams_m2 = GERparams_m1.copy()\n",
    "GERparams_m3 = GERparams_m1.copy()\n",
    "\n",
    "GERparams_m1[\"Rt_base\"] = parametros.Rtbase['scenario3']\n",
    "GERparams_m2[\"Rt_base\"] = parametros.Rtbase['scenario2']\n",
    "GERparams_m3[\"Rt_base\"] = parametros.Rtbase['scenario1']"
   ]
  },
  {
   "cell_type": "code",
   "execution_count": 6,
   "metadata": {},
   "outputs": [
    {
     "name": "stdout",
     "output_type": "stream",
     "text": [
      "Darkfigure: 2.3628691983122363\n",
      "{'V': 548356.3311392405, 'R': 90663.29113924051, 'W': 39336.70886075949, 'ICU': 13.46, 'E': 731.2166302387648, 'EB': 367.51754697642514, 'I': 1784.559010741192, 'IB': 896.9390505357097, 'S': 317849.9766222674, 'UC': 603900.0, 'WC': 0.0, 'D': 0.0, 'C': 0.0}\n",
      "[317849.9766222674, 548356.3311392405, 39336.70886075949, 731.2166302387648, 367.51754697642514, 1784.559010741192, 896.9390505357097, 13.46, 90663.29113924051, 603900.0, 0.0, 0.0, 0.0]\n"
     ]
    }
   ],
   "source": [
    "print('Darkfigure:', parametros.darkfigure)\n",
    "print(parametros.y0)\n",
    "print(parametros.params['y0'])"
   ]
  },
  {
   "cell_type": "code",
   "execution_count": 7,
   "metadata": {},
   "outputs": [
    {
     "name": "stdout",
     "output_type": "stream",
     "text": [
      "[317849.9766222674, 548356.3311392405, 39336.70886075949, 731.2166302387648, 367.51754697642514, 1784.559010741192, 896.9390505357097, 13.46, 90663.29113924051, 603900.0, 0.0, 0.0, 0.0]\n"
     ]
    }
   ],
   "source": [
    "print(GERparams_m2['y0'])"
   ]
  },
  {
   "cell_type": "code",
   "execution_count": 8,
   "metadata": {},
   "outputs": [],
   "source": [
    "GERm1 = model.Model(**GERparams_m1)\n",
    "GERm2 = model.Model(**GERparams_m2)\n",
    "GERm3 = model.Model(**GERparams_m3)\n",
    "\n",
    "times, data = GERm1.run()\n",
    "times, data = GERm2.run()\n",
    "times, data = GERm3.run()"
   ]
  },
  {
   "cell_type": "code",
   "execution_count": 9,
   "metadata": {},
   "outputs": [
    {
     "data": {
      "text/plain": [
       "1000000.0"
      ]
     },
     "execution_count": 9,
     "metadata": {},
     "output_type": "execute_result"
    }
   ],
   "source": [
    "GERm1.save(\"./pickle/germany_m1.pickle\")\n",
    "GERm2.save(\"./pickle/germany_m2.pickle\")\n",
    "GERm3.save(\"./pickle/germany_m3.pickle\")\n",
    "GERm1.M"
   ]
  },
  {
   "cell_type": "markdown",
   "metadata": {},
   "source": [
    "## Czech"
   ]
  },
  {
   "cell_type": "code",
   "execution_count": 11,
   "metadata": {},
   "outputs": [],
   "source": [
    "CZEparams_m1 = default_params.copy()\n",
    "\n",
    "\n",
    "CZEparams_m1.update(parametros_CZE.params)\n",
    "CZEparams_m1.update({'y0':parametros_CZE.y0_array})\n",
    "\n",
    "CZEparams_m2 = CZEparams_m1.copy()\n",
    "CZEparams_m3 = CZEparams_m1.copy()\n",
    "\n",
    "CZEparams_m1[\"Rt_base\"] = parametros.Rtbase['scenario3']\n",
    "CZEparams_m2[\"Rt_base\"] = parametros.Rtbase['scenario2']\n",
    "CZEparams_m3[\"Rt_base\"] = parametros.Rtbase['scenario1']"
   ]
  },
  {
   "cell_type": "code",
   "execution_count": 12,
   "metadata": {},
   "outputs": [
    {
     "name": "stdout",
     "output_type": "stream",
     "text": [
      "Darkfigure: 3.2567049808429123\n",
      "{'V': 323307.8304597701, 'R': 415229.8850574713, 'W': 109420.11494252874, 'ICU': 0.84, 'E': 108.85739397500114, 'EB': 132.92038380277666, 'I': 265.670165680531, 'IB': 324.39670928841997, 'S': 151209.48488748306, 'UC': 536500.0, 'WC': 0.0, 'D': 0.0, 'C': 0.0}\n",
      "[151209.48488748306, 323307.8304597701, 109420.11494252874, 108.85739397500114, 132.92038380277666, 265.670165680531, 324.39670928841997, 0.84, 415229.8850574713, 536500.0, 0.0, 0.0, 0.0]\n"
     ]
    }
   ],
   "source": [
    "print('Darkfigure:', parametros_CZE.darkfigure)\n",
    "print(parametros_CZE.y0)\n",
    "print(parametros_CZE.params['y0'])"
   ]
  },
  {
   "cell_type": "code",
   "execution_count": 14,
   "metadata": {},
   "outputs": [],
   "source": [
    "CZEm1 = model.Model(**CZEparams_m1)\n",
    "CZEm2 = model.Model(**CZEparams_m2)\n",
    "CZEm3 = model.Model(**CZEparams_m3)\n",
    "\n",
    "times, data = CZEm1.run()\n",
    "times, data = CZEm2.run()\n",
    "times, data = CZEm3.run()"
   ]
  },
  {
   "cell_type": "code",
   "execution_count": 15,
   "metadata": {},
   "outputs": [
    {
     "data": {
      "text/plain": [
       "1000000.0"
      ]
     },
     "execution_count": 15,
     "metadata": {},
     "output_type": "execute_result"
    }
   ],
   "source": [
    "CZEm1.save(\"./pickle/czech_m1.pickle\")\n",
    "CZEm2.save(\"./pickle/czech_m2.pickle\")\n",
    "CZEm3.save(\"./pickle/czech_m3.pickle\")\n",
    "CZEm1.M"
   ]
  },
  {
   "cell_type": "markdown",
   "metadata": {},
   "source": [
    "## Denmark"
   ]
  },
  {
   "cell_type": "code",
   "execution_count": 16,
   "metadata": {},
   "outputs": [],
   "source": [
    "DANparams_m1 = default_params.copy()\n",
    "\n",
    "DANparams_m1.update(parametros_DSK.params)\n",
    "DANparams_m1.update({'y0':parametros_DSK.y0_array})\n",
    "\n",
    "\n",
    "DANparams_m2 = DANparams_m1.copy()\n",
    "DANparams_m3 = DANparams_m1.copy()\n",
    "\n",
    "DANparams_m1[\"Rt_base\"] = parametros.Rtbase['scenario3']\n",
    "DANparams_m2[\"Rt_base\"] = parametros.Rtbase['scenario2']\n",
    "DANparams_m3[\"Rt_base\"] = parametros.Rtbase['scenario1']"
   ]
  },
  {
   "cell_type": "code",
   "execution_count": 17,
   "metadata": {},
   "outputs": [
    {
     "name": "stdout",
     "output_type": "stream",
     "text": [
      "Darkfigure: 2.892976588628762\n",
      "{'V': 661537.5044565217, 'R': 139412.54180602005, 'W': 56037.45819397993, 'ICU': 4.3, 'E': 691.6493395672808, 'EB': 1009.7680517370668, 'I': 1687.993694556635, 'IB': 2464.3732116671845, 'S': 137154.41124595003, 'UC': 725400.0, 'WC': 0.0, 'D': 0.0, 'C': 0.0}\n",
      "[137154.41124595003, 661537.5044565217, 56037.45819397993, 691.6493395672808, 1009.7680517370668, 1687.993694556635, 2464.3732116671845, 4.3, 139412.54180602005, 725400.0, 0.0, 0.0, 0.0]\n"
     ]
    }
   ],
   "source": [
    "print('Darkfigure:', parametros_DSK.darkfigure)\n",
    "print(parametros_DSK.y0)\n",
    "print(parametros_DSK.params['y0'])"
   ]
  },
  {
   "cell_type": "code",
   "execution_count": 18,
   "metadata": {},
   "outputs": [
    {
     "name": "stdout",
     "output_type": "stream",
     "text": [
      "[137154.41124595003, 661537.5044565217, 56037.45819397993, 691.6493395672808, 1009.7680517370668, 1687.993694556635, 2464.3732116671845, 4.3, 139412.54180602005, 725400.0, 0.0, 0.0, 0.0]\n"
     ]
    }
   ],
   "source": [
    "print(DANparams_m1['y0'])"
   ]
  },
  {
   "cell_type": "code",
   "execution_count": 19,
   "metadata": {},
   "outputs": [],
   "source": [
    "DANm1 = model.Model(**DANparams_m1)\n",
    "DANm2 = model.Model(**DANparams_m2)\n",
    "DANm3 = model.Model(**DANparams_m3)\n",
    "\n",
    "times, data = DANm1.run()\n",
    "times, data = DANm2.run()\n",
    "times, data = DANm3.run()"
   ]
  },
  {
   "cell_type": "code",
   "execution_count": 20,
   "metadata": {},
   "outputs": [
    {
     "data": {
      "text/plain": [
       "1000000.0"
      ]
     },
     "execution_count": 20,
     "metadata": {},
     "output_type": "execute_result"
    }
   ],
   "source": [
    "DANm1.save(\"./pickle/denmark_m1.pickle\")\n",
    "DANm2.save(\"./pickle/denmark_m2.pickle\")\n",
    "DANm3.save(\"./pickle/denmark_m3.pickle\")\n",
    "DANm1.M"
   ]
  },
  {
   "cell_type": "markdown",
   "metadata": {},
   "source": [
    "## Portugal"
   ]
  },
  {
   "cell_type": "code",
   "execution_count": 5,
   "metadata": {},
   "outputs": [],
   "source": [
    "PORparams_m1 = default_params.copy()\n",
    "\n",
    "PORparams_m1.update(parametros_POR.params)\n",
    "PORparams_m1.update({'y0':parametros_POR.y0_array})\n",
    "\n",
    "\n",
    "PORparams_m2 = PORparams_m1.copy()\n",
    "PORparams_m3 = PORparams_m1.copy()\n",
    "\n",
    "PORparams_m1[\"Rt_base\"] = parametros.Rtbase['scenario3']\n",
    "PORparams_m2[\"Rt_base\"] = parametros.Rtbase['scenario2']\n",
    "PORparams_m3[\"Rt_base\"] = parametros.Rtbase['scenario1']"
   ]
  },
  {
   "cell_type": "code",
   "execution_count": 7,
   "metadata": {},
   "outputs": [
    {
     "name": "stdout",
     "output_type": "stream",
     "text": [
      "Darkfigure: 1.6927592954990214\n",
      "{'V': 699635.5081213308, 'R': 141853.228962818, 'W': 49696.77103718199, 'ICU': 12.88, 'E': 429.67698130387964, 'EB': 866.2995353301711, 'I': 1048.6412603109623, 'IB': 2114.233426651634, 'S': 104342.76067507267, 'UC': 755500, 'WC': 0.0, 'D': 0.0, 'C': 0.0}\n",
      "[104342.76067507267, 699635.5081213308, 49696.77103718199, 429.67698130387964, 866.2995353301711, 1048.6412603109623, 2114.233426651634, 12.88, 141853.228962818, 755500, 0.0, 0.0, 0.0]\n"
     ]
    }
   ],
   "source": [
    "print('Darkfigure:', parametros_POR.darkfigure)\n",
    "print(parametros_POR.y0)\n",
    "print(PORparams_m1['y0'])"
   ]
  },
  {
   "cell_type": "code",
   "execution_count": 8,
   "metadata": {},
   "outputs": [],
   "source": [
    "PORm1 = model.Model(**PORparams_m1)\n",
    "PORm2 = model.Model(**PORparams_m2)\n",
    "PORm3 = model.Model(**PORparams_m3)\n",
    "\n",
    "times, data = PORm1.run()\n",
    "times, data = PORm2.run()\n",
    "times, data = PORm3.run()"
   ]
  },
  {
   "cell_type": "code",
   "execution_count": 9,
   "metadata": {},
   "outputs": [
    {
     "data": {
      "text/plain": [
       "1000000.0"
      ]
     },
     "execution_count": 9,
     "metadata": {},
     "output_type": "execute_result"
    }
   ],
   "source": [
    "PORm1.save(\"./pickle/portugal_m1.pickle\")\n",
    "PORm2.save(\"./pickle/portugal_m2.pickle\")\n",
    "PORm3.save(\"./pickle/portugal_m3.pickle\")\n",
    "PORm1.M"
   ]
  },
  {
   "cell_type": "code",
   "execution_count": null,
   "metadata": {},
   "outputs": [],
   "source": []
  },
  {
   "cell_type": "code",
   "execution_count": null,
   "metadata": {},
   "outputs": [],
   "source": []
  },
  {
   "cell_type": "code",
   "execution_count": null,
   "metadata": {},
   "outputs": [],
   "source": []
  }
 ],
 "metadata": {
  "kernelspec": {
   "display_name": "Python 3",
   "language": "python",
   "name": "python3"
  },
  "language_info": {
   "codemirror_mode": {
    "name": "ipython",
    "version": 3
   },
   "file_extension": ".py",
   "mimetype": "text/x-python",
   "name": "python",
   "nbconvert_exporter": "python",
   "pygments_lexer": "ipython3",
   "version": "3.7.0"
  }
 },
 "nbformat": 4,
 "nbformat_minor": 5
}
