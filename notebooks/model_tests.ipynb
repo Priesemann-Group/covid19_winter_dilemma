{
 "cells": [
  {
   "cell_type": "code",
   "execution_count": 28,
   "id": "d3be7fa8",
   "metadata": {},
   "outputs": [],
   "source": [
    "from scipy.integrate import solve_ivp\n",
    "import numpy as np\n",
    "from matplotlib import pyplot as plt"
   ]
  },
  {
   "cell_type": "code",
   "execution_count": null,
   "id": "cb7983d9",
   "metadata": {},
   "outputs": [],
   "source": []
  },
  {
   "cell_type": "code",
   "execution_count": 124,
   "id": "85b3f447",
   "metadata": {},
   "outputs": [],
   "source": [
    "S=230982\n",
    "V=600000\n",
    "W=97500\n",
    "E=390\n",
    "EB=39\n",
    "I=974\n",
    "IB=97\n",
    "ICU=18\n",
    "R=70000\n",
    "\n",
    "y0 = [S,V,W,E,EB,I,IB,ICU,R]\n",
    "\n",
    "M = sum(y0)\n",
    "\n",
    "Rt_base = 3.     # 0. - 3.5\n",
    "eta = 0.75       # 0.5 - 0.85\n",
    "kappa = 0.9      # 0.7 - 0.95\n",
    "sigma = 0.5      # 0.5 - 1.\n",
    "\n",
    "gamma = 0.1      # 0.088 - 0.1\n",
    "gamma_ICU = 0.2  # 0.08 - 0.2\n",
    "delta = 0.0001   # 0.00001 - 0.007\n",
    "\n",
    "omega_v_b = 1./(6*30)\n",
    "omega_n_b = 1./(12*30)\n",
    "\n",
    "chi_0 = 0.1\n",
    "\n",
    "alpha_w = 0.01\n",
    "alpha_u = 0.01\n",
    "alpha_R = 0.01\n",
    "\n",
    "e_R = 0.\n",
    "e_u = 0.\n",
    "e_w = 0.\n",
    "\n",
    "Phi_0 = 0.005*M\n",
    "phi_0 = 0.005*M\n",
    "\n",
    "rho = 0.25\n",
    "u_base = 0.6\n",
    "w_max = 0.9\n",
    "lamb = 0.1\n",
    "\n",
    "n = 1.\n",
    "k_v = M*omega_v_b*(1/(gamma+delta))\n",
    "k_n = M*omega_n_b*(1/(gamma+delta))\n",
    "\n",
    "\n",
    "\n",
    "mu = 0.\n",
    "d_0 = 0.\n",
    "d_mu = 0.\n"
   ]
  },
  {
   "cell_type": "code",
   "execution_count": 132,
   "id": "cdfa8e9c",
   "metadata": {},
   "outputs": [],
   "source": [
    "d = {'S':0,'V':1,'W':2,'E':3,'EB':4,'I':5,'IB':6,'ICU':7,'R':8}\n",
    "def fun(t,y):\n",
    "    return [dS(t,y), dV(t,y), dW(t,y), dE(t,y), dEB(t,y), dI(t,y), dIB(t,y), dICU(t,y), dR(t,y)]\n",
    "\n",
    "def dS(t,y):\n",
    "    return - gamma*Rt(y[d['ICU']],t)*y[d['S']]/M*(y[d['I']]+sigma*y[d['IB']]) \\\n",
    "           - Phi(y[d['ICU']],y[d['S']])*M\n",
    "def dV(t,y):\n",
    "    return - (1-eta)*gamma*Rt(y[d['ICU']],t)*y[d['V']]/M*(y[d['I']]+sigma*y[d['IB']]) \\\n",
    "           + (Phi(y[d['ICU']],y[d['S']]) + phi(y[d['ICU']],y[d['W']]))*M \\\n",
    "           - omega_v(y[d['I']],y[d['IB']])*y[d['V']]\n",
    "def dW(t,y):\n",
    "    return + omega_v(y[d['I']],y[d['IB']])*y[d['V']] \\\n",
    "           + omega_n(y[d['I']],y[d['IB']])*y[d['R']] \\\n",
    "           - gamma*Rt(y[d['ICU']],t)*y[d['W']]/M*(y[d['I']]+sigma*y[d['IB']]) \\\n",
    "           - phi(y[d['ICU']],y[d['W']])*M\n",
    "def dE(t,y):\n",
    "    return + gamma*Rt(y[d['ICU']],t)*(y[d['S']]+y[d['W']])/M*(y[d['I']]+sigma*y[d['IB']]) \\\n",
    "           - rho*y[d['E']]\n",
    "def dEB(t,y):\n",
    "    return + (1-eta)*gamma*Rt(y[d['ICU']],t)*y[d['V']]/M*(y[d['I']]+sigma*y[d['IB']]) \\\n",
    "           - rho*y[d['EB']]\n",
    "def dI(t,y):\n",
    "    return + rho*y[d['E']] \\\n",
    "           - (gamma+delta)*y[d['I']]\n",
    "def dIB(t,y):\n",
    "    return + rho*y[d['EB']] \\\n",
    "           - (gamma*(1+kappa)+delta*(1-kappa))*y[d['IB']]\n",
    "def dICU(t,y):\n",
    "    return + delta*(y[d['I']]+(1-kappa)*y[d['IB']]) \\\n",
    "           - gamma_ICU*y[d['ICU']]\n",
    "def dR(t,y):\n",
    "    return + gamma*(y[d['I']]+(1+kappa)*y[d['IB']]) \\\n",
    "           - omega_n(y[d['I']],y[d['IB']])*y[d['R']] \\\n",
    "           + gamma_ICU*y[d['ICU']]\n",
    "\n",
    "def Rt(ICU, t):\n",
    "    return Rt_base*np.exp(-alpha_R*ICU -e_R) * Gamma(t)\n",
    "def Phi(ICU,S):\n",
    "    if u_w(ICU) < u_c(S): return 0\n",
    "    return min(Phi_0, u_w(ICU)-u_c(S))\n",
    "def u_w(ICU):\n",
    "    return u_base + (u_max()-u_base)*(1-np.exp(-alpha_u*ICU-e_u))\n",
    "def u_c(S):\n",
    "    return 1 - S/M\n",
    "def u_max():\n",
    "    return 1 - chi_0\n",
    "def phi(ICU,W):\n",
    "    if w_w(ICU) < w_c(W): return 0\n",
    "    return min(phi_0, w_w(ICU)-w_c(W))\n",
    "def w_w(ICU):\n",
    "    return w_max*(1-np.exp(-alpha_w*ICU-e_w+lamb))\n",
    "def w_c(W):\n",
    "    return 1 - W/M\n",
    "def Gamma(t):\n",
    "    return 1 + mu*np.cos(2*np.pi*(t+d_0-d_mu)/365.)\n",
    "def omega_v(I,IB):\n",
    "    return omega_v_b*(1-(I_eff(I,IB)**n/((k_v/2)**n+I_eff(I,IB)**n)))\n",
    "def omega_n(I,IB):\n",
    "    return omega_n_b*(1-(I_eff(I,IB)**n/((k_n/2)**n+I_eff(I,IB)**n)))\n",
    "def I_eff(I,IB):\n",
    "    return I + sigma*IB\n"
   ]
  },
  {
   "cell_type": "code",
   "execution_count": null,
   "id": "1b661795",
   "metadata": {},
   "outputs": [],
   "source": []
  },
  {
   "cell_type": "code",
   "execution_count": 137,
   "id": "cf294fe7",
   "metadata": {},
   "outputs": [],
   "source": [
    "t_max = 1000\n",
    "steps = 10000"
   ]
  },
  {
   "cell_type": "code",
   "execution_count": 138,
   "id": "62600b42",
   "metadata": {},
   "outputs": [],
   "source": [
    "result = solve_ivp(fun, (0,t_max), y0, t_eval=[(t_max/steps)*x for x in range(steps)])"
   ]
  },
  {
   "cell_type": "code",
   "execution_count": 139,
   "id": "2e1acc66",
   "metadata": {},
   "outputs": [
    {
     "data": {
      "text/plain": [
       "<matplotlib.legend.Legend at 0x7fb3d5d97c40>"
      ]
     },
     "execution_count": 139,
     "metadata": {},
     "output_type": "execute_result"
    },
    {
     "data": {
      "image/png": "[encoded data removed]",
      "text/plain": [
       "<Figure size 432x288 with 1 Axes>"
      ]
     },
     "metadata": {
      "needs_background": "light"
     },
     "output_type": "display_data"
    }
   ],
   "source": [
    "for i,x in enumerate(result[\"y\"]):\n",
    "    plt.plot(result[\"t\"],x,label=[k for k,v in d.items() if v == i])\n",
    "plt.legend()"
   ]
  },
  {
   "cell_type": "code",
   "execution_count": 146,
   "id": "b63eb993",
   "metadata": {},
   "outputs": [
    {
     "data": {
      "text/plain": [
       "[<matplotlib.lines.Line2D at 0x7fb3d5a42d90>]"
      ]
     },
     "execution_count": 146,
     "metadata": {},
     "output_type": "execute_result"
    },
    {
     "data": {
      "image/png": "[encoded data removed]",
      "text/plain": [
       "<Figure size 432x288 with 1 Axes>"
      ]
     },
     "metadata": {
      "needs_background": "light"
     },
     "output_type": "display_data"
    }
   ],
   "source": [
    "plt.plot(result[\"t\"],result[\"y\"][d[\"ICU\"]])"
   ]
  },
  {
   "cell_type": "code",
   "execution_count": null,
   "id": "cb704172",
   "metadata": {},
   "outputs": [],
   "source": []
  },
  {
   "cell_type": "code",
   "execution_count": null,
   "id": "90eed725",
   "metadata": {},
   "outputs": [],
   "source": []
  },
  {
   "cell_type": "code",
   "execution_count": null,
   "id": "0e1b34be",
   "metadata": {},
   "outputs": [],
   "source": []
  },
  {
   "cell_type": "code",
   "execution_count": 147,
   "id": "8ba6869e",
   "metadata": {},
   "outputs": [
    {
     "data": {
      "text/plain": [
       "array([1000000., 1000000., 1000000., ..., 1000000., 1000000., 1000000.])"
      ]
     },
     "execution_count": 147,
     "metadata": {},
     "output_type": "execute_result"
    }
   ],
   "source": [
    "sum(result['y'])"
   ]
  },
  {
   "cell_type": "code",
   "execution_count": null,
   "id": "6a1bb1ee",
   "metadata": {},
   "outputs": [],
   "source": []
  }
 ],
 "metadata": {
  "kernelspec": {
   "display_name": "Python 3",
   "language": "python",
   "name": "python3"
  },
  "language_info": {
   "codemirror_mode": {
    "name": "ipython",
    "version": 3
   },
   "file_extension": ".py",
   "mimetype": "text/x-python",
   "name": "python",
   "nbconvert_exporter": "python",
   "pygments_lexer": "ipython3",
   "version": "3.8.10"
  }
 },
 "nbformat": 4,
 "nbformat_minor": 5
}
