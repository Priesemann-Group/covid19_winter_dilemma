{
 "cells": [
  {
   "cell_type": "code",
   "execution_count": 5,
   "metadata": {},
   "outputs": [
    {
     "name": "stdout",
     "output_type": "stream",
     "text": [
      "[650000.         650000.         650000.         ... 703051.88720261\n",
      " 703051.88720261 703051.88720261]\n"
     ]
    }
   ],
   "source": [
    "import pickle\n",
    "import numpy as np\n",
    "\n",
    "import sys\n",
    "sys.path.append(\"../code\")\n",
    "import model\n",
    "\n",
    "\n",
    "\n",
    "with open(\"../datamodelruns/alphaR=0.011999999999999999.pickle\", \"rb\") as f:\n",
    "    m=pickle.load(f)\n",
    "    \n",
    "    \n",
    "print(m.chopped_data()[:,9])"
   ]
  }
 ],
 "metadata": {
  "kernelspec": {
   "display_name": "Python 3",
   "language": "python",
   "name": "python3"
  },
  "language_info": {
   "codemirror_mode": {
    "name": "ipython",
    "version": 3
   },
   "file_extension": ".py",
   "mimetype": "text/x-python",
   "name": "python",
   "nbconvert_exporter": "python",
   "pygments_lexer": "ipython3",
   "version": "3.7.0"
  }
 },
 "nbformat": 4,
 "nbformat_minor": 2
}
